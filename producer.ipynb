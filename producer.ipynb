{
 "cells": [
  {
   "metadata": {
    "ExecuteTime": {
     "end_time": "2024-06-06T16:30:01.658100Z",
     "start_time": "2024-06-06T16:29:59.774398Z"
    }
   },
   "cell_type": "code",
   "source": [
    "from confluent_kafka import Producer\n",
    "from aily_py_commons.io.env_vars import (\n",
    "    INFRASTRUCTURE_PROD,\n",
    "    AilySettings,\n",
    ")\n",
    "from aily_ai_brain.common.secrets_manager import get_aws_secret_key"
   ],
   "id": "71a5fec7c25abbcd",
   "outputs": [],
   "execution_count": 2
  },
  {
   "metadata": {
    "ExecuteTime": {
     "end_time": "2024-06-06T16:30:04.923010Z",
     "start_time": "2024-06-06T16:30:01.659115Z"
    }
   },
   "cell_type": "code",
   "source": [
    "AilySettings(INFRASTRUCTURE_PROD)\n",
    "\n",
    "secret_name = \"aily/infrastructure/dev/msk/msk-controlplane-infrastructure-dev/ailypubsub\"\n",
    "\n",
    "# Producer configuration using AWS secrets\n",
    "producer_conf = {\n",
    "    'bootstrap.servers': get_aws_secret_key(secret_name, \"bootstrap_public\"),\n",
    "    'security.protocol': \"SASL_SSL\",\n",
    "    'sasl.mechanism': \"SCRAM-SHA-512\",\n",
    "    'sasl.username': get_aws_secret_key(secret_name, \"username\"),\n",
    "    'sasl.password': get_aws_secret_key(secret_name, \"password\")\n",
    "}\n",
    "\n",
    "producer = Producer(**producer_conf)"
   ],
   "id": "e3d1243d6231013d",
   "outputs": [
    {
     "name": "stderr",
     "output_type": "stream",
     "text": [
      "\u001B[33m2024-06-06 18:30:01 CEST+0200 - WARNING - aily-logging:\u001B[0m \u001B[37mYou are using a dictionary to configure AilySettings. This is not recommended.\u001B[0m\n"
     ]
    }
   ],
   "execution_count": 3
  },
  {
   "metadata": {
    "ExecuteTime": {
     "end_time": "2024-06-06T16:30:05.661233Z",
     "start_time": "2024-06-06T16:30:04.924099Z"
    }
   },
   "cell_type": "code",
   "source": [
    "def delivery_report(err, msg):\n",
    "    if err is not None:\n",
    "        print(f'Message delivery failed: {err}')\n",
    "    else:\n",
    "        print(f'Message delivered to {msg.topic()} [{msg.partition()}]')\n",
    "        \n",
    "message = 'Hello, Kafka!'\n",
    "producer.produce('langfuse-aggregator', message.encode('utf-8'), callback=delivery_report)\n",
    "\n",
    "# Wait for any outstanding messages to be delivered and delivery reports to be received\n",
    "producer.flush()"
   ],
   "id": "9d5049126dfc0027",
   "outputs": [
    {
     "name": "stdout",
     "output_type": "stream",
     "text": [
      "Message delivered to langfuse-aggregator [8]\n"
     ]
    },
    {
     "data": {
      "text/plain": [
       "0"
      ]
     },
     "execution_count": 4,
     "metadata": {},
     "output_type": "execute_result"
    }
   ],
   "execution_count": 4
  },
  {
   "metadata": {
    "ExecuteTime": {
     "end_time": "2024-06-06T16:30:15.622130Z",
     "start_time": "2024-06-06T16:30:15.526200Z"
    }
   },
   "cell_type": "code",
   "source": [
    "message = 'Hello, Kafka!'\n",
    "producer.produce('langfuse-aggregator', message.encode('utf-8'), callback=delivery_report)\n",
    "\n",
    "# Wait for any outstanding messages to be delivered and delivery reports to be received\n",
    "producer.flush()"
   ],
   "id": "2f4fcef937f31068",
   "outputs": [
    {
     "name": "stdout",
     "output_type": "stream",
     "text": [
      "Message delivered to langfuse-aggregator [6]\n"
     ]
    },
    {
     "data": {
      "text/plain": [
       "0"
      ]
     },
     "execution_count": 6,
     "metadata": {},
     "output_type": "execute_result"
    }
   ],
   "execution_count": 6
  }
 ],
 "metadata": {
  "kernelspec": {
   "display_name": "Python 3",
   "language": "python",
   "name": "python3"
  },
  "language_info": {
   "codemirror_mode": {
    "name": "ipython",
    "version": 2
   },
   "file_extension": ".py",
   "mimetype": "text/x-python",
   "name": "python",
   "nbconvert_exporter": "python",
   "pygments_lexer": "ipython2",
   "version": "2.7.6"
  }
 },
 "nbformat": 4,
 "nbformat_minor": 5
}
