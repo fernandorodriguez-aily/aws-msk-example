{
 "cells": [
  {
   "cell_type": "code",
   "id": "initial_id",
   "metadata": {
    "collapsed": true,
    "ExecuteTime": {
     "end_time": "2024-06-10T10:04:09.721871Z",
     "start_time": "2024-06-10T10:04:09.719214Z"
    }
   },
   "source": [
    "import time\n",
    "from confluent_kafka import Consumer, KafkaException, KafkaError\n",
    "from aily_py_commons.io.env_vars import (\n",
    "    INFRASTRUCTURE_PROD,\n",
    "    AilySettings,\n",
    ")\n",
    "from aily_data_aws.aws.secrets import get_secret"
   ],
   "outputs": [],
   "execution_count": 4
  },
  {
   "metadata": {
    "ExecuteTime": {
     "end_time": "2024-06-10T10:04:10.557873Z",
     "start_time": "2024-06-10T10:04:09.728454Z"
    }
   },
   "cell_type": "code",
   "source": [
    "AilySettings(INFRASTRUCTURE_PROD)\n",
    "\n",
    "secret_name = \"aily/infrastructure/dev/msk/msk-controlplane-infrastructure-dev/ailypubsub\"\n",
    "secret = get_secret(secret_name)\n",
    "\n",
    "# Consumer configuration using AWS secrets\n",
    "consumer_conf = {\n",
    "    'bootstrap.servers': secret[\"bootstrap_public\"],\n",
    "    'group.id': 'my_consumer_group',\n",
    "    'auto.offset.reset': 'earliest',\n",
    "    'security.protocol': \"SASL_SSL\",\n",
    "    'sasl.mechanism': \"SCRAM-SHA-512\",\n",
    "    'sasl.username': secret[\"username\"],\n",
    "    'sasl.password': secret[\"password\"]\n",
    "}\n",
    "\n",
    "consumer = Consumer(**consumer_conf)\n",
    "consumer.subscribe(['kafka-message-test'])"
   ],
   "id": "ac91f9698e0ff35b",
   "outputs": [
    {
     "name": "stderr",
     "output_type": "stream",
     "text": [
      "\u001B[33m2024-06-10 12:04:09 CEST+0200 - WARNING - aily-logging:\u001B[0m \u001B[37mYou are using a dictionary to configure AilySettings. This is not recommended.\u001B[0m\n"
     ]
    }
   ],
   "execution_count": 5
  },
  {
   "metadata": {
    "ExecuteTime": {
     "end_time": "2024-06-10T10:04:34.714870Z",
     "start_time": "2024-06-10T10:04:10.558783Z"
    }
   },
   "cell_type": "code",
   "source": [
    "try:\n",
    "    last_print_time = time.time()\n",
    "    while True:\n",
    "        msg = consumer.poll(timeout=1.0)\n",
    "        current_time = time.time()\n",
    "        \n",
    "        if current_time - last_print_time >= 5:\n",
    "            print(\"Waiting\")\n",
    "            last_print_time = current_time\n",
    "\n",
    "        if msg is None:\n",
    "            continue\n",
    "        if msg.error():\n",
    "            if msg.error().code() == KafkaError._PARTITION_EOF:\n",
    "                # End of partition event\n",
    "                print(f'{msg.topic()} [{msg.partition()}] reached end at offset {msg.offset()}')\n",
    "            elif msg.error():\n",
    "                raise KafkaException(msg.error())\n",
    "        else:\n",
    "            # Proper message\n",
    "            print(f'Received message: {msg.value().decode(\"utf-8\")}')\n",
    "except KeyboardInterrupt:\n",
    "    pass\n",
    "finally:\n",
    "    # Close down consumer to commit final offsets.\n",
    "    consumer.close()"
   ],
   "id": "56576a6333228d43",
   "outputs": [
    {
     "name": "stdout",
     "output_type": "stream",
     "text": [
      "Waiting\n",
      "Waiting\n",
      "Waiting\n",
      "Received message: Hello, Kafka!\n",
      "Waiting\n"
     ]
    }
   ],
   "execution_count": 6
  }
 ],
 "metadata": {
  "kernelspec": {
   "display_name": "Python 3",
   "language": "python",
   "name": "python3"
  },
  "language_info": {
   "codemirror_mode": {
    "name": "ipython",
    "version": 2
   },
   "file_extension": ".py",
   "mimetype": "text/x-python",
   "name": "python",
   "nbconvert_exporter": "python",
   "pygments_lexer": "ipython2",
   "version": "2.7.6"
  }
 },
 "nbformat": 4,
 "nbformat_minor": 5
}
